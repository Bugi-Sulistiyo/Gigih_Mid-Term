{
 "cells": [
  {
   "cell_type": "markdown",
   "source": [
    "# EDA -> Exploratory Data Analysis\n",
    "Exploring the <a href=\"https://www.kaggle.com/datasets/parulpandey/2020-it-salary-survey-for-eu-region\">**IT Salary Survey for EU region**</a> dataset.\n",
    "### Dataset Info\n",
    "- **Contex**\n",
    "      An anonymous salary survey has been conducted annually since 2015 among European IT specialists with a stronger focus on Germany. This year 1238 respondents volunteered to participate in the survey. The data has been made publicly available by the authors.\n",
    "      the dataset contains rich information about the salary patterns among the IT professionals in the EU region and offers some great insghts.\n",
    "- **File**\n",
    "      - <a href=\"https://www.kaggle.com/datasets/parulpandey/2020-it-salary-survey-for-eu-region?select=IT+Salary+Survey+EU++2018.csv\">IT Salary Survey EU 2018.csv</a>\n",
    "            &ensp;&ensp;Row&ensp;&ensp;&ensp;&ensp;: 765 rows\n",
    "            &ensp;&ensp;Colum&ensp;&ensp;: 14 columns\n",
    "      - <a href=\"https://www.kaggle.com/datasets/parulpandey/2020-it-salary-survey-for-eu-region?select=IT+Salary+Survey+EU++2019.csv\">IT Salary Survey EU 2019.csv</a>\n",
    "            &ensp;&ensp;Row&ensp;&ensp;&ensp;&ensp;: 991 rows\n",
    "            &ensp;&ensp;Colum&ensp;&ensp;: 23 columns\n",
    "      - <a href=\"https://www.kaggle.com/datasets/parulpandey/2020-it-salary-survey-for-eu-region?select=IT+Salary+Survey+EU++2020.csv\">IT Salary Survey EU 2020.csv</a>\n",
    "            &ensp;&ensp;Row&ensp;&ensp;&ensp;&ensp;: 1253 rows\n",
    "            &ensp;&ensp;Colum&ensp;&ensp;: 23 columns"
   ],
   "metadata": {
    "collapsed": false,
    "pycharm": {
     "name": "#%% md\n"
    }
   }
  },
  {
   "cell_type": "code",
   "execution_count": 3,
   "outputs": [],
   "source": [
    "# Importing the used dataset\n",
    "import pandas as pd\n",
    "import os"
   ],
   "metadata": {
    "collapsed": false,
    "pycharm": {
     "name": "#%%\n"
    }
   }
  },
  {
   "cell_type": "code",
   "execution_count": 11,
   "outputs": [],
   "source": [
    "# Declaring the path as global variable\n",
    "PATH_MAIN = r\"./../Dataset/\"\n",
    "PATH_18 = os.path.join(PATH_MAIN, r\"IT Salary Survey EU 2018.csv\")\n",
    "PATH_19 = os.path.join(PATH_MAIN, r\"IT Salary Survey EU 2019.csv\")\n",
    "PATH_20 = os.path.join(PATH_MAIN, r\"IT Salary Survey EU 2020.csv\")"
   ],
   "metadata": {
    "collapsed": false,
    "pycharm": {
     "name": "#%%\n"
    }
   }
  },
  {
   "cell_type": "code",
   "execution_count": 12,
   "outputs": [],
   "source": [
    "# Getting the dataset (csv file) into the script\n",
    "data_18 = pd.read_csv(PATH_18)\n",
    "data_19 = pd.read_csv(PATH_19)\n",
    "data_20 = pd.read_csv(PATH_20)"
   ],
   "metadata": {
    "collapsed": false,
    "pycharm": {
     "name": "#%%\n"
    }
   }
  },
  {
   "cell_type": "markdown",
   "source": [
    "## Step 1 - Observe The Overview\n",
    "Getting the general overview of dataset"
   ],
   "metadata": {
    "collapsed": false,
    "pycharm": {
     "name": "#%% md\n"
    }
   }
  },
  {
   "cell_type": "code",
   "execution_count": 34,
   "outputs": [
    {
     "name": "stdout",
     "output_type": "stream",
     "text": [
      "== 2018 Data == [14 columns]\n",
      "Index(['Timestamp', 'Age', 'Gender', 'City', 'Position', 'Years of experience',\n",
      "       'Your level', 'Current Salary', 'Salary one year ago',\n",
      "       'Salary two years ago', 'Are you getting any Stock Options?',\n",
      "       'Main language at work', 'Company size', 'Company type'],\n",
      "      dtype='object')\n",
      "\n",
      "== 2019 Data == [23 columns]\n",
      "Index(['Zeitstempel', 'Age', 'Gender', 'City', 'Seniority level',\n",
      "       'Position (without seniority)', 'Years of experience',\n",
      "       'Your main technology / programming language',\n",
      "       'Yearly brutto salary (without bonus and stocks)', 'Yearly bonus',\n",
      "       'Yearly stocks',\n",
      "       'Yearly brutto salary (without bonus and stocks) one year ago. Only answer if staying in same country',\n",
      "       'Yearly bonus one year ago. Only answer if staying in same country',\n",
      "       'Yearly stocks one year ago. Only answer if staying in same country',\n",
      "       'Number of vacation days', 'Number of home office days per month',\n",
      "       'Main language at work', 'Company name ', 'Company size',\n",
      "       'Company type', 'Сontract duration', 'Company business sector', '0'],\n",
      "      dtype='object')\n",
      "\n",
      "== 2020 Data == [23 columns]\n",
      "Index(['Timestamp', 'Age', 'Gender', 'City', 'Position ',\n",
      "       'Total years of experience', 'Years of experience in Germany',\n",
      "       'Seniority level', 'Your main technology / programming language',\n",
      "       'Other technologies/programming languages you use often',\n",
      "       'Yearly brutto salary (without bonus and stocks) in EUR',\n",
      "       'Yearly bonus + stocks in EUR',\n",
      "       'Annual brutto salary (without bonus and stocks) one year ago. Only answer if staying in the same country',\n",
      "       'Annual bonus+stocks one year ago. Only answer if staying in same country',\n",
      "       'Number of vacation days', 'Employment status', 'Сontract duration',\n",
      "       'Main language at work', 'Company size', 'Company type',\n",
      "       'Have you lost your job due to the coronavirus outbreak?',\n",
      "       'Have you been forced to have a shorter working week (Kurzarbeit)? If yes, how many hours per week',\n",
      "       'Have you received additional monetary support from your employer due to Work From Home? If yes, how much in 2020 in EUR'],\n",
      "      dtype='object')\n"
     ]
    }
   ],
   "source": [
    "# Getting the columns name from each file\n",
    "column_18 = data_18.columns\n",
    "column_19 = data_19.columns\n",
    "column_20 = data_20.columns\n",
    "print(f'== 2018 Data == [{len(column_18)} columns]\\n{column_18}',\n",
    "      f'== 2019 Data == [{len(column_19)} columns]\\n{column_19}',\n",
    "      f'== 2020 Data == [{len(column_20)} columns]\\n{column_20}',\n",
    "      sep='\\n\\n')"
   ],
   "metadata": {
    "collapsed": false,
    "pycharm": {
     "name": "#%%\n"
    }
   }
  },
  {
   "cell_type": "code",
   "execution_count": 35,
   "outputs": [
    {
     "data": {
      "text/plain": "             Timestamp   Age Gender     City                       Position  \\\n0  14/12/2018 12:41:33  43.0      M  München                   QA Ingenieur   \n1  14/12/2018 12:42:09  33.0      F  München  Senior PHP Magento developer    \n2  14/12/2018 12:47:36  32.0      M  München              Software Engineer   \n3  14/12/2018 12:50:15  25.0      M  München      Senior Frontend Developer   \n4  14/12/2018 12:50:31  39.0      M  München                    UX Designer   \n\n   Years of experience Your level  Current Salary  Salary one year ago  \\\n0                 11.0     Senior         77000.0              76200.0   \n1                  8.0     Senior         65000.0              55000.0   \n2                 10.0     Senior         88000.0              73000.0   \n3                  6.0     Senior         78000.0              55000.0   \n4                 10.0     Senior         69000.0              60000.0   \n\n   Salary two years ago Are you getting any Stock Options?  \\\n0               68000.0                                 No   \n1               55000.0                                 No   \n2               54000.0                                 No   \n3               45000.0                                Yes   \n4               52000.0                                 No   \n\n  Main language at work Company size   Company type  \n0               Deutsch     100-1000        Product  \n1               Deutsch       50-100        Product  \n2               Deutsch        1000+        Product  \n3               English        1000+        Product  \n4               English     100-1000  Ecom retailer  ",
      "text/html": "<div>\n<style scoped>\n    .dataframe tbody tr th:only-of-type {\n        vertical-align: middle;\n    }\n\n    .dataframe tbody tr th {\n        vertical-align: top;\n    }\n\n    .dataframe thead th {\n        text-align: right;\n    }\n</style>\n<table border=\"1\" class=\"dataframe\">\n  <thead>\n    <tr style=\"text-align: right;\">\n      <th></th>\n      <th>Timestamp</th>\n      <th>Age</th>\n      <th>Gender</th>\n      <th>City</th>\n      <th>Position</th>\n      <th>Years of experience</th>\n      <th>Your level</th>\n      <th>Current Salary</th>\n      <th>Salary one year ago</th>\n      <th>Salary two years ago</th>\n      <th>Are you getting any Stock Options?</th>\n      <th>Main language at work</th>\n      <th>Company size</th>\n      <th>Company type</th>\n    </tr>\n  </thead>\n  <tbody>\n    <tr>\n      <th>0</th>\n      <td>14/12/2018 12:41:33</td>\n      <td>43.0</td>\n      <td>M</td>\n      <td>München</td>\n      <td>QA Ingenieur</td>\n      <td>11.0</td>\n      <td>Senior</td>\n      <td>77000.0</td>\n      <td>76200.0</td>\n      <td>68000.0</td>\n      <td>No</td>\n      <td>Deutsch</td>\n      <td>100-1000</td>\n      <td>Product</td>\n    </tr>\n    <tr>\n      <th>1</th>\n      <td>14/12/2018 12:42:09</td>\n      <td>33.0</td>\n      <td>F</td>\n      <td>München</td>\n      <td>Senior PHP Magento developer</td>\n      <td>8.0</td>\n      <td>Senior</td>\n      <td>65000.0</td>\n      <td>55000.0</td>\n      <td>55000.0</td>\n      <td>No</td>\n      <td>Deutsch</td>\n      <td>50-100</td>\n      <td>Product</td>\n    </tr>\n    <tr>\n      <th>2</th>\n      <td>14/12/2018 12:47:36</td>\n      <td>32.0</td>\n      <td>M</td>\n      <td>München</td>\n      <td>Software Engineer</td>\n      <td>10.0</td>\n      <td>Senior</td>\n      <td>88000.0</td>\n      <td>73000.0</td>\n      <td>54000.0</td>\n      <td>No</td>\n      <td>Deutsch</td>\n      <td>1000+</td>\n      <td>Product</td>\n    </tr>\n    <tr>\n      <th>3</th>\n      <td>14/12/2018 12:50:15</td>\n      <td>25.0</td>\n      <td>M</td>\n      <td>München</td>\n      <td>Senior Frontend Developer</td>\n      <td>6.0</td>\n      <td>Senior</td>\n      <td>78000.0</td>\n      <td>55000.0</td>\n      <td>45000.0</td>\n      <td>Yes</td>\n      <td>English</td>\n      <td>1000+</td>\n      <td>Product</td>\n    </tr>\n    <tr>\n      <th>4</th>\n      <td>14/12/2018 12:50:31</td>\n      <td>39.0</td>\n      <td>M</td>\n      <td>München</td>\n      <td>UX Designer</td>\n      <td>10.0</td>\n      <td>Senior</td>\n      <td>69000.0</td>\n      <td>60000.0</td>\n      <td>52000.0</td>\n      <td>No</td>\n      <td>English</td>\n      <td>100-1000</td>\n      <td>Ecom retailer</td>\n    </tr>\n  </tbody>\n</table>\n</div>"
     },
     "execution_count": 35,
     "metadata": {},
     "output_type": "execute_result"
    }
   ],
   "source": [
    "# 2018 data sneakpeak\n",
    "data_18.head(5)"
   ],
   "metadata": {
    "collapsed": false,
    "pycharm": {
     "name": "#%%\n"
    }
   }
  },
  {
   "cell_type": "code",
   "execution_count": 36,
   "outputs": [
    {
     "data": {
      "text/plain": "           Zeitstempel   Age Gender    City Seniority level  \\\n0  02.12.2019 11:18:26  33.0   Male  Berlin          Senior   \n1  02.12.2019 11:18:35  29.0   Male  Berlin          Middle   \n2  02.12.2019 11:18:56   NaN   Male  Berlin          Middle   \n3  02.12.2019 11:19:08  30.0   Male  Berlin          Senior   \n4  02.12.2019 11:19:37  32.0   Male  Berlin          Senior   \n\n  Position (without seniority)  Years of experience  \\\n0          Fullstack Developer                   13   \n1            Backend Developer                    3   \n2             Mobile Developer                    4   \n3            Backend Developer                    6   \n4           Embedded Developer                   10   \n\n  Your main technology / programming language  \\\n0                                         PHP   \n1                                      Python   \n2                                      Kotlin   \n3                                         PHP   \n4                                       C/C++   \n\n   Yearly brutto salary (without bonus and stocks)  Yearly bonus  ...  \\\n0                                          64000.0        1000.0  ...   \n1                                          55000.0           NaN  ...   \n2                                          70000.0           NaN  ...   \n3                                          63000.0           NaN  ...   \n4                                          66000.0           NaN  ...   \n\n   Yearly stocks one year ago. Only answer if staying in same country  \\\n0                                                NaN                    \n1                                                NaN                    \n2                                                NaN                    \n3                                                NaN                    \n4                                                NaN                    \n\n   Number of vacation days  Number of home office days per month  \\\n0                     29.0                                   4.0   \n1                     22.0                                   4.0   \n2                     27.0                                   NaN   \n3                     24.0                                   NaN   \n4                     30.0                                   0.0   \n\n   Main language at work  Company name   Company size Company type  \\\n0                English            NaN        50-100      Startup   \n1                English            NaN         10-50      Product   \n2                English            NaN         1000+      Startup   \n3                English          Auto1      100-1000      Product   \n4                English         Luxoft        50-100      Product   \n\n  Сontract duration Company business sector   0  \n0         unlimited                 Tourism NaN  \n1         unlimited   Scientific Activities NaN  \n2         unlimited                     NaN NaN  \n3         unlimited               Transport NaN  \n4         unlimited              Automotive NaN  \n\n[5 rows x 23 columns]",
      "text/html": "<div>\n<style scoped>\n    .dataframe tbody tr th:only-of-type {\n        vertical-align: middle;\n    }\n\n    .dataframe tbody tr th {\n        vertical-align: top;\n    }\n\n    .dataframe thead th {\n        text-align: right;\n    }\n</style>\n<table border=\"1\" class=\"dataframe\">\n  <thead>\n    <tr style=\"text-align: right;\">\n      <th></th>\n      <th>Zeitstempel</th>\n      <th>Age</th>\n      <th>Gender</th>\n      <th>City</th>\n      <th>Seniority level</th>\n      <th>Position (without seniority)</th>\n      <th>Years of experience</th>\n      <th>Your main technology / programming language</th>\n      <th>Yearly brutto salary (without bonus and stocks)</th>\n      <th>Yearly bonus</th>\n      <th>...</th>\n      <th>Yearly stocks one year ago. Only answer if staying in same country</th>\n      <th>Number of vacation days</th>\n      <th>Number of home office days per month</th>\n      <th>Main language at work</th>\n      <th>Company name</th>\n      <th>Company size</th>\n      <th>Company type</th>\n      <th>Сontract duration</th>\n      <th>Company business sector</th>\n      <th>0</th>\n    </tr>\n  </thead>\n  <tbody>\n    <tr>\n      <th>0</th>\n      <td>02.12.2019 11:18:26</td>\n      <td>33.0</td>\n      <td>Male</td>\n      <td>Berlin</td>\n      <td>Senior</td>\n      <td>Fullstack Developer</td>\n      <td>13</td>\n      <td>PHP</td>\n      <td>64000.0</td>\n      <td>1000.0</td>\n      <td>...</td>\n      <td>NaN</td>\n      <td>29.0</td>\n      <td>4.0</td>\n      <td>English</td>\n      <td>NaN</td>\n      <td>50-100</td>\n      <td>Startup</td>\n      <td>unlimited</td>\n      <td>Tourism</td>\n      <td>NaN</td>\n    </tr>\n    <tr>\n      <th>1</th>\n      <td>02.12.2019 11:18:35</td>\n      <td>29.0</td>\n      <td>Male</td>\n      <td>Berlin</td>\n      <td>Middle</td>\n      <td>Backend Developer</td>\n      <td>3</td>\n      <td>Python</td>\n      <td>55000.0</td>\n      <td>NaN</td>\n      <td>...</td>\n      <td>NaN</td>\n      <td>22.0</td>\n      <td>4.0</td>\n      <td>English</td>\n      <td>NaN</td>\n      <td>10-50</td>\n      <td>Product</td>\n      <td>unlimited</td>\n      <td>Scientific Activities</td>\n      <td>NaN</td>\n    </tr>\n    <tr>\n      <th>2</th>\n      <td>02.12.2019 11:18:56</td>\n      <td>NaN</td>\n      <td>Male</td>\n      <td>Berlin</td>\n      <td>Middle</td>\n      <td>Mobile Developer</td>\n      <td>4</td>\n      <td>Kotlin</td>\n      <td>70000.0</td>\n      <td>NaN</td>\n      <td>...</td>\n      <td>NaN</td>\n      <td>27.0</td>\n      <td>NaN</td>\n      <td>English</td>\n      <td>NaN</td>\n      <td>1000+</td>\n      <td>Startup</td>\n      <td>unlimited</td>\n      <td>NaN</td>\n      <td>NaN</td>\n    </tr>\n    <tr>\n      <th>3</th>\n      <td>02.12.2019 11:19:08</td>\n      <td>30.0</td>\n      <td>Male</td>\n      <td>Berlin</td>\n      <td>Senior</td>\n      <td>Backend Developer</td>\n      <td>6</td>\n      <td>PHP</td>\n      <td>63000.0</td>\n      <td>NaN</td>\n      <td>...</td>\n      <td>NaN</td>\n      <td>24.0</td>\n      <td>NaN</td>\n      <td>English</td>\n      <td>Auto1</td>\n      <td>100-1000</td>\n      <td>Product</td>\n      <td>unlimited</td>\n      <td>Transport</td>\n      <td>NaN</td>\n    </tr>\n    <tr>\n      <th>4</th>\n      <td>02.12.2019 11:19:37</td>\n      <td>32.0</td>\n      <td>Male</td>\n      <td>Berlin</td>\n      <td>Senior</td>\n      <td>Embedded Developer</td>\n      <td>10</td>\n      <td>C/C++</td>\n      <td>66000.0</td>\n      <td>NaN</td>\n      <td>...</td>\n      <td>NaN</td>\n      <td>30.0</td>\n      <td>0.0</td>\n      <td>English</td>\n      <td>Luxoft</td>\n      <td>50-100</td>\n      <td>Product</td>\n      <td>unlimited</td>\n      <td>Automotive</td>\n      <td>NaN</td>\n    </tr>\n  </tbody>\n</table>\n<p>5 rows × 23 columns</p>\n</div>"
     },
     "execution_count": 36,
     "metadata": {},
     "output_type": "execute_result"
    }
   ],
   "source": [
    "# 2019 data sneakpeak\n",
    "data_19.head(5)"
   ],
   "metadata": {
    "collapsed": false,
    "pycharm": {
     "name": "#%%\n"
    }
   }
  },
  {
   "cell_type": "code",
   "execution_count": 37,
   "outputs": [
    {
     "data": {
      "text/plain": "             Timestamp   Age Gender    City           Position   \\\n0  24/11/2020 11:14:15  26.0   Male  Munich   Software Engineer   \n1  24/11/2020 11:14:16  26.0   Male  Berlin   Backend Developer   \n2  24/11/2020 11:14:21  29.0   Male  Berlin   Software Engineer   \n3  24/11/2020 11:15:24  28.0   Male  Berlin  Frontend Developer   \n4  24/11/2020 11:15:46  37.0   Male  Berlin   Backend Developer   \n\n  Total years of experience Years of experience in Germany Seniority level  \\\n0                         5                              3          Senior   \n1                         7                              4          Senior   \n2                        12                              6            Lead   \n3                         4                              1          Junior   \n4                        17                              6          Senior   \n\n  Your main technology / programming language  \\\n0                                  TypeScript   \n1                                        Ruby   \n2                     Javascript / Typescript   \n3                                  Javascript   \n4                                     C# .NET   \n\n  Other technologies/programming languages you use often  ...  \\\n0                    Kotlin, Javascript / Typescript      ...   \n1                                                NaN      ...   \n2                    Javascript / Typescript, Docker      ...   \n3                                                NaN      ...   \n4                             .NET, SQL, AWS, Docker      ...   \n\n   Annual bonus+stocks one year ago. Only answer if staying in same country  \\\n0                                              10000                          \n1                                               5000                          \n2                                             100000                          \n3                                                NaN                          \n4                                                NaN                          \n\n  Number of vacation days           Employment status   Сontract duration  \\\n0                      30          Full-time employee  Unlimited contract   \n1                      28          Full-time employee  Unlimited contract   \n2                      30  Self-employed (freelancer)  Temporary contract   \n3                      24          Full-time employee  Unlimited contract   \n4                      29          Full-time employee  Unlimited contract   \n\n  Main language at work Company size Company type  \\\n0               English       51-100      Product   \n1               English     101-1000      Product   \n2               English     101-1000      Product   \n3               English       51-100      Startup   \n4               English     101-1000      Product   \n\n  Have you lost your job due to the coronavirus outbreak?  \\\n0                                                 No        \n1                                                 No        \n2                                                Yes        \n3                                                 No        \n4                                                 No        \n\n  Have you been forced to have a shorter working week (Kurzarbeit)? If yes, how many hours per week  \\\n0                                                NaN                                                  \n1                                                NaN                                                  \n2                                                NaN                                                  \n3                                                NaN                                                  \n4                                                NaN                                                  \n\n  Have you received additional monetary support from your employer due to Work From Home? If yes, how much in 2020 in EUR  \n0                                                NaN                                                                       \n1                                                NaN                                                                       \n2                                                NaN                                                                       \n3                                                NaN                                                                       \n4                                                NaN                                                                       \n\n[5 rows x 23 columns]",
      "text/html": "<div>\n<style scoped>\n    .dataframe tbody tr th:only-of-type {\n        vertical-align: middle;\n    }\n\n    .dataframe tbody tr th {\n        vertical-align: top;\n    }\n\n    .dataframe thead th {\n        text-align: right;\n    }\n</style>\n<table border=\"1\" class=\"dataframe\">\n  <thead>\n    <tr style=\"text-align: right;\">\n      <th></th>\n      <th>Timestamp</th>\n      <th>Age</th>\n      <th>Gender</th>\n      <th>City</th>\n      <th>Position</th>\n      <th>Total years of experience</th>\n      <th>Years of experience in Germany</th>\n      <th>Seniority level</th>\n      <th>Your main technology / programming language</th>\n      <th>Other technologies/programming languages you use often</th>\n      <th>...</th>\n      <th>Annual bonus+stocks one year ago. Only answer if staying in same country</th>\n      <th>Number of vacation days</th>\n      <th>Employment status</th>\n      <th>Сontract duration</th>\n      <th>Main language at work</th>\n      <th>Company size</th>\n      <th>Company type</th>\n      <th>Have you lost your job due to the coronavirus outbreak?</th>\n      <th>Have you been forced to have a shorter working week (Kurzarbeit)? If yes, how many hours per week</th>\n      <th>Have you received additional monetary support from your employer due to Work From Home? If yes, how much in 2020 in EUR</th>\n    </tr>\n  </thead>\n  <tbody>\n    <tr>\n      <th>0</th>\n      <td>24/11/2020 11:14:15</td>\n      <td>26.0</td>\n      <td>Male</td>\n      <td>Munich</td>\n      <td>Software Engineer</td>\n      <td>5</td>\n      <td>3</td>\n      <td>Senior</td>\n      <td>TypeScript</td>\n      <td>Kotlin, Javascript / Typescript</td>\n      <td>...</td>\n      <td>10000</td>\n      <td>30</td>\n      <td>Full-time employee</td>\n      <td>Unlimited contract</td>\n      <td>English</td>\n      <td>51-100</td>\n      <td>Product</td>\n      <td>No</td>\n      <td>NaN</td>\n      <td>NaN</td>\n    </tr>\n    <tr>\n      <th>1</th>\n      <td>24/11/2020 11:14:16</td>\n      <td>26.0</td>\n      <td>Male</td>\n      <td>Berlin</td>\n      <td>Backend Developer</td>\n      <td>7</td>\n      <td>4</td>\n      <td>Senior</td>\n      <td>Ruby</td>\n      <td>NaN</td>\n      <td>...</td>\n      <td>5000</td>\n      <td>28</td>\n      <td>Full-time employee</td>\n      <td>Unlimited contract</td>\n      <td>English</td>\n      <td>101-1000</td>\n      <td>Product</td>\n      <td>No</td>\n      <td>NaN</td>\n      <td>NaN</td>\n    </tr>\n    <tr>\n      <th>2</th>\n      <td>24/11/2020 11:14:21</td>\n      <td>29.0</td>\n      <td>Male</td>\n      <td>Berlin</td>\n      <td>Software Engineer</td>\n      <td>12</td>\n      <td>6</td>\n      <td>Lead</td>\n      <td>Javascript / Typescript</td>\n      <td>Javascript / Typescript, Docker</td>\n      <td>...</td>\n      <td>100000</td>\n      <td>30</td>\n      <td>Self-employed (freelancer)</td>\n      <td>Temporary contract</td>\n      <td>English</td>\n      <td>101-1000</td>\n      <td>Product</td>\n      <td>Yes</td>\n      <td>NaN</td>\n      <td>NaN</td>\n    </tr>\n    <tr>\n      <th>3</th>\n      <td>24/11/2020 11:15:24</td>\n      <td>28.0</td>\n      <td>Male</td>\n      <td>Berlin</td>\n      <td>Frontend Developer</td>\n      <td>4</td>\n      <td>1</td>\n      <td>Junior</td>\n      <td>Javascript</td>\n      <td>NaN</td>\n      <td>...</td>\n      <td>NaN</td>\n      <td>24</td>\n      <td>Full-time employee</td>\n      <td>Unlimited contract</td>\n      <td>English</td>\n      <td>51-100</td>\n      <td>Startup</td>\n      <td>No</td>\n      <td>NaN</td>\n      <td>NaN</td>\n    </tr>\n    <tr>\n      <th>4</th>\n      <td>24/11/2020 11:15:46</td>\n      <td>37.0</td>\n      <td>Male</td>\n      <td>Berlin</td>\n      <td>Backend Developer</td>\n      <td>17</td>\n      <td>6</td>\n      <td>Senior</td>\n      <td>C# .NET</td>\n      <td>.NET, SQL, AWS, Docker</td>\n      <td>...</td>\n      <td>NaN</td>\n      <td>29</td>\n      <td>Full-time employee</td>\n      <td>Unlimited contract</td>\n      <td>English</td>\n      <td>101-1000</td>\n      <td>Product</td>\n      <td>No</td>\n      <td>NaN</td>\n      <td>NaN</td>\n    </tr>\n  </tbody>\n</table>\n<p>5 rows × 23 columns</p>\n</div>"
     },
     "execution_count": 37,
     "metadata": {},
     "output_type": "execute_result"
    }
   ],
   "source": [
    "# 2020 data sneakpeak\n",
    "data_20.head(5)"
   ],
   "metadata": {
    "collapsed": false,
    "pycharm": {
     "name": "#%%\n"
    }
   }
  },
  {
   "cell_type": "code",
   "execution_count": 38,
   "outputs": [
    {
     "name": "stdout",
     "output_type": "stream",
     "text": [
      "<class 'pandas.core.frame.DataFrame'>\n",
      "RangeIndex: 765 entries, 0 to 764\n",
      "Data columns (total 14 columns):\n",
      " #   Column                              Non-Null Count  Dtype  \n",
      "---  ------                              --------------  -----  \n",
      " 0   Timestamp                           765 non-null    object \n",
      " 1   Age                                 672 non-null    float64\n",
      " 2   Gender                              751 non-null    object \n",
      " 3   City                                736 non-null    object \n",
      " 4   Position                            737 non-null    object \n",
      " 5   Years of experience                 732 non-null    float64\n",
      " 6   Your level                          743 non-null    object \n",
      " 7   Current Salary                      750 non-null    float64\n",
      " 8   Salary one year ago                 596 non-null    float64\n",
      " 9   Salary two years ago                463 non-null    float64\n",
      " 10  Are you getting any Stock Options?  742 non-null    object \n",
      " 11  Main language at work               750 non-null    object \n",
      " 12  Company size                        750 non-null    object \n",
      " 13  Company type                        730 non-null    object \n",
      "dtypes: float64(5), object(9)\n",
      "memory usage: 83.8+ KB\n"
     ]
    }
   ],
   "source": [
    "data_18.info()"
   ],
   "metadata": {
    "collapsed": false,
    "pycharm": {
     "name": "#%%\n"
    }
   }
  },
  {
   "cell_type": "code",
   "execution_count": 39,
   "outputs": [
    {
     "name": "stdout",
     "output_type": "stream",
     "text": [
      "<class 'pandas.core.frame.DataFrame'>\n",
      "RangeIndex: 991 entries, 0 to 990\n",
      "Data columns (total 23 columns):\n",
      " #   Column                                                                                                Non-Null Count  Dtype  \n",
      "---  ------                                                                                                --------------  -----  \n",
      " 0   Zeitstempel                                                                                           991 non-null    object \n",
      " 1   Age                                                                                                   882 non-null    float64\n",
      " 2   Gender                                                                                                991 non-null    object \n",
      " 3   City                                                                                                  991 non-null    object \n",
      " 4   Seniority level                                                                                       976 non-null    object \n",
      " 5   Position (without seniority)                                                                          990 non-null    object \n",
      " 6   Years of experience                                                                                   991 non-null    int64  \n",
      " 7   Your main technology / programming language                                                           977 non-null    object \n",
      " 8   Yearly brutto salary (without bonus and stocks)                                                       990 non-null    float64\n",
      " 9   Yearly bonus                                                                                          530 non-null    float64\n",
      " 10  Yearly stocks                                                                                         203 non-null    float64\n",
      " 11  Yearly brutto salary (without bonus and stocks) one year ago. Only answer if staying in same country  603 non-null    float64\n",
      " 12  Yearly bonus one year ago. Only answer if staying in same country                                     257 non-null    float64\n",
      " 13  Yearly stocks one year ago. Only answer if staying in same country                                    139 non-null    float64\n",
      " 14  Number of vacation days                                                                               931 non-null    float64\n",
      " 15  Number of home office days per month                                                                  639 non-null    float64\n",
      " 16  Main language at work                                                                                 986 non-null    object \n",
      " 17  Company name                                                                                          256 non-null    object \n",
      " 18  Company size                                                                                          977 non-null    object \n",
      " 19  Company type                                                                                          960 non-null    object \n",
      " 20  Сontract duration                                                                                     962 non-null    object \n",
      " 21  Company business sector                                                                               846 non-null    object \n",
      " 22  0                                                                                                     0 non-null      float64\n",
      "dtypes: float64(10), int64(1), object(12)\n",
      "memory usage: 178.2+ KB\n"
     ]
    }
   ],
   "source": [
    "data_19.info()"
   ],
   "metadata": {
    "collapsed": false,
    "pycharm": {
     "name": "#%%\n"
    }
   }
  },
  {
   "cell_type": "code",
   "execution_count": 40,
   "outputs": [
    {
     "name": "stdout",
     "output_type": "stream",
     "text": [
      "<class 'pandas.core.frame.DataFrame'>\n",
      "RangeIndex: 1253 entries, 0 to 1252\n",
      "Data columns (total 23 columns):\n",
      " #   Column                                                                                                                   Non-Null Count  Dtype  \n",
      "---  ------                                                                                                                   --------------  -----  \n",
      " 0   Timestamp                                                                                                                1253 non-null   object \n",
      " 1   Age                                                                                                                      1226 non-null   float64\n",
      " 2   Gender                                                                                                                   1243 non-null   object \n",
      " 3   City                                                                                                                     1253 non-null   object \n",
      " 4   Position                                                                                                                 1247 non-null   object \n",
      " 5   Total years of experience                                                                                                1237 non-null   object \n",
      " 6   Years of experience in Germany                                                                                           1221 non-null   object \n",
      " 7   Seniority level                                                                                                          1241 non-null   object \n",
      " 8   Your main technology / programming language                                                                              1126 non-null   object \n",
      " 9   Other technologies/programming languages you use often                                                                   1096 non-null   object \n",
      " 10  Yearly brutto salary (without bonus and stocks) in EUR                                                                   1253 non-null   float64\n",
      " 11  Yearly bonus + stocks in EUR                                                                                             829 non-null    object \n",
      " 12  Annual brutto salary (without bonus and stocks) one year ago. Only answer if staying in the same country                 885 non-null    float64\n",
      " 13  Annual bonus+stocks one year ago. Only answer if staying in same country                                                 614 non-null    object \n",
      " 14  Number of vacation days                                                                                                  1185 non-null   object \n",
      " 15  Employment status                                                                                                        1236 non-null   object \n",
      " 16  Сontract duration                                                                                                        1224 non-null   object \n",
      " 17  Main language at work                                                                                                    1237 non-null   object \n",
      " 18  Company size                                                                                                             1235 non-null   object \n",
      " 19  Company type                                                                                                             1228 non-null   object \n",
      " 20  Have you lost your job due to the coronavirus outbreak?                                                                  1233 non-null   object \n",
      " 21  Have you been forced to have a shorter working week (Kurzarbeit)? If yes, how many hours per week                        373 non-null    float64\n",
      " 22  Have you received additional monetary support from your employer due to Work From Home? If yes, how much in 2020 in EUR  462 non-null    object \n",
      "dtypes: float64(4), object(19)\n",
      "memory usage: 225.3+ KB\n"
     ]
    }
   ],
   "source": [
    "data_20.info()"
   ],
   "metadata": {
    "collapsed": false,
    "pycharm": {
     "name": "#%%\n"
    }
   }
  }
 ],
 "metadata": {
  "kernelspec": {
   "display_name": "Python 3",
   "language": "python",
   "name": "python3"
  },
  "language_info": {
   "codemirror_mode": {
    "name": "ipython",
    "version": 2
   },
   "file_extension": ".py",
   "mimetype": "text/x-python",
   "name": "python",
   "nbconvert_exporter": "python",
   "pygments_lexer": "ipython2",
   "version": "2.7.6"
  }
 },
 "nbformat": 4,
 "nbformat_minor": 0
}
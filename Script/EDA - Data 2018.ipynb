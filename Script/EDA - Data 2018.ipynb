{
 "cells": [
  {
   "cell_type": "code",
   "execution_count": 3,
   "outputs": [],
   "source": [
    "import pandas as pd\n",
    "import os"
   ],
   "metadata": {
    "collapsed": false,
    "pycharm": {
     "name": "#%%\n"
    }
   }
  },
  {
   "cell_type": "code",
   "execution_count": 11,
   "outputs": [],
   "source": [
    "PATH_MAIN = r\"./../Dataset/\"\n",
    "PATH_18 = os.path.join(PATH_MAIN, r\"IT Salary Survey EU 2018.csv\")\n",
    "PATH_19 = os.path.join(PATH_MAIN, r\"IT Salary Survey EU 2019.csv\")\n",
    "PATH_20 = os.path.join(PATH_MAIN, r\"IT Salary Survey EU 2020.csv\")"
   ],
   "metadata": {
    "collapsed": false,
    "pycharm": {
     "name": "#%%\n"
    }
   }
  },
  {
   "cell_type": "code",
   "execution_count": 12,
   "outputs": [],
   "source": [
    "data_18 = pd.read_csv(PATH_18)\n",
    "data_19 = pd.read_csv(PATH_19)\n",
    "data_20 = pd.read_csv(PATH_20)"
   ],
   "metadata": {
    "collapsed": false,
    "pycharm": {
     "name": "#%%\n"
    }
   }
  },
  {
   "cell_type": "code",
   "execution_count": 13,
   "outputs": [],
   "source": [
    "column_18 = data_18.columns\n",
    "column_19 = data_19.columns\n",
    "column_20 = data_20.columns"
   ],
   "metadata": {
    "collapsed": false,
    "pycharm": {
     "name": "#%%\n"
    }
   }
  },
  {
   "cell_type": "code",
   "execution_count": 16,
   "outputs": [
    {
     "name": "stdout",
     "output_type": "stream",
     "text": [
      "2018: Index(['Timestamp', 'Age', 'Gender', 'City', 'Position', 'Years of experience',\n",
      "       'Your level', 'Current Salary', 'Salary one year ago',\n",
      "       'Salary two years ago', 'Are you getting any Stock Options?',\n",
      "       'Main language at work', 'Company size', 'Company type'],\n",
      "      dtype='object')\n",
      "\n",
      "2019: Index(['Zeitstempel', 'Age', 'Gender', 'City', 'Seniority level',\n",
      "       'Position (without seniority)', 'Years of experience',\n",
      "       'Your main technology / programming language',\n",
      "       'Yearly brutto salary (without bonus and stocks)', 'Yearly bonus',\n",
      "       'Yearly stocks',\n",
      "       'Yearly brutto salary (without bonus and stocks) one year ago. Only answer if staying in same country',\n",
      "       'Yearly bonus one year ago. Only answer if staying in same country',\n",
      "       'Yearly stocks one year ago. Only answer if staying in same country',\n",
      "       'Number of vacation days', 'Number of home office days per month',\n",
      "       'Main language at work', 'Company name ', 'Company size',\n",
      "       'Company type', 'Сontract duration', 'Company business sector', '0'],\n",
      "      dtype='object')\n",
      "\n",
      "2020: Index(['Timestamp', 'Age', 'Gender', 'City', 'Position ',\n",
      "       'Total years of experience', 'Years of experience in Germany',\n",
      "       'Seniority level', 'Your main technology / programming language',\n",
      "       'Other technologies/programming languages you use often',\n",
      "       'Yearly brutto salary (without bonus and stocks) in EUR',\n",
      "       'Yearly bonus + stocks in EUR',\n",
      "       'Annual brutto salary (without bonus and stocks) one year ago. Only answer if staying in the same country',\n",
      "       'Annual bonus+stocks one year ago. Only answer if staying in same country',\n",
      "       'Number of vacation days', 'Employment status', 'Сontract duration',\n",
      "       'Main language at work', 'Company size', 'Company type',\n",
      "       'Have you lost your job due to the coronavirus outbreak?',\n",
      "       'Have you been forced to have a shorter working week (Kurzarbeit)? If yes, how many hours per week',\n",
      "       'Have you received additional monetary support from your employer due to Work From Home? If yes, how much in 2020 in EUR'],\n",
      "      dtype='object')\n"
     ]
    }
   ],
   "source": [
    "print(f'2018: {column_18}',\n",
    "      f'2019: {column_19}',\n",
    "      f'2020: {column_20}',\n",
    "      sep='\\n\\n')"
   ],
   "metadata": {
    "collapsed": false,
    "pycharm": {
     "name": "#%%\n"
    }
   }
  }
 ],
 "metadata": {
  "kernelspec": {
   "display_name": "Python 3",
   "language": "python",
   "name": "python3"
  },
  "language_info": {
   "codemirror_mode": {
    "name": "ipython",
    "version": 2
   },
   "file_extension": ".py",
   "mimetype": "text/x-python",
   "name": "python",
   "nbconvert_exporter": "python",
   "pygments_lexer": "ipython2",
   "version": "2.7.6"
  }
 },
 "nbformat": 4,
 "nbformat_minor": 0
}